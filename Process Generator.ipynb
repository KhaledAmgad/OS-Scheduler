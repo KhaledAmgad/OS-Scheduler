{
 "cells": [
  {
   "cell_type": "code",
   "execution_count": 9,
   "metadata": {},
   "outputs": [],
   "source": [
    "import tkinter as tk \n",
    "import numpy as np\n",
    "from tkinter import simpledialog\n",
    "\n",
    "def generate(inputFileName,outputFileName):\n",
    "    #read input\n",
    "    inputArr = []\n",
    "\n",
    "    inputFile = open(inputFileName, \"r\")\n",
    "    for val in inputFile.read().split():\n",
    "        inputArr.append(float(val))\n",
    "    inputFile.close()\n",
    "    inputArr = np.array(inputArr)\n",
    "\n",
    "\n",
    "\n",
    "    #generate Output\n",
    "\n",
    "    numberOfProcesses=int(inputArr[0])\n",
    "\n",
    "    MArrivalTime=inputArr[1]\n",
    "    SArrivalTime=inputArr[2]\n",
    "\n",
    "    MBurstTime=inputArr[3]\n",
    "    SBurstTime=inputArr[4]\n",
    "\n",
    "    LPriority=inputArr[5]\n",
    "\n",
    "\n",
    "    arrivalDist = np.random.normal(MArrivalTime, SArrivalTime, numberOfProcesses)\n",
    "    burstDist = np.random.normal(MBurstTime, SBurstTime, numberOfProcesses)\n",
    "\n",
    "    priorityDist=np.random.poisson(LPriority,numberOfProcesses)\n",
    "\n",
    "    #write Output\n",
    "    outputFile = open(outputFileName, \"w\")\n",
    "    outputFile.write(str(numberOfProcesses)+'\\n')\n",
    "    for i in range(numberOfProcesses):\n",
    "        outputFile.write(\n",
    "            str(i+1)+' '+\n",
    "            str(arrivalDist[i])+' '+\n",
    "            str(burstDist[i])+' '+\n",
    "            str(priorityDist[i])+'\\n')\n",
    "\n",
    "    outputFile.close()\n"
   ]
  },
  {
   "cell_type": "code",
   "execution_count": 10,
   "metadata": {},
   "outputs": [],
   "source": [
    "inputFileName=None\n",
    "outputFileName=None\n",
    "window = tk.Tk()\n",
    "window.withdraw()\n",
    "inputFileName = simpledialog.askstring(title=\"input file\",prompt=\"Enter the input file name\") \n",
    "window.destroy()\n",
    "window = tk.Tk()\n",
    "window.withdraw()\n",
    "outputFileName = simpledialog.askstring(title=\"output file\",prompt=\"Enter the output file name\") \n",
    "window.destroy()\n",
    "\n",
    "generate(inputFileName,outputFileName)\n",
    "\n",
    "\n",
    "\n"
   ]
  },
  {
   "cell_type": "code",
   "execution_count": 3,
   "metadata": {},
   "outputs": [],
   "source": [
    "\n",
    "\n",
    "\n"
   ]
  },
  {
   "cell_type": "code",
   "execution_count": null,
   "metadata": {},
   "outputs": [],
   "source": []
  }
 ],
 "metadata": {
  "kernelspec": {
   "display_name": "Python 3",
   "language": "python",
   "name": "python3"
  },
  "language_info": {
   "codemirror_mode": {
    "name": "ipython",
    "version": 3
   },
   "file_extension": ".py",
   "mimetype": "text/x-python",
   "name": "python",
   "nbconvert_exporter": "python",
   "pygments_lexer": "ipython3",
   "version": "3.7.4"
  }
 },
 "nbformat": 4,
 "nbformat_minor": 2
}
